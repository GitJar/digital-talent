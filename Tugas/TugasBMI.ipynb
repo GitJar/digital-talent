{
 "cells": [
  {
   "cell_type": "markdown",
   "metadata": {},
   "source": [
    "![alt text](https://cdn.iconscout.com/icon/free/png-256/human-body-458026.png \"Body\")\n",
    "Nama: Ahmad Salam Wahid Faizin"
   ]
  },
  {
   "cell_type": "markdown",
   "metadata": {},
   "source": [
    "## LATIHAN\n",
    "\n",
    "\n",
    "Body Mass Index (BMI) menentukan sebuah keidealan berat badan terhadap tinggi badan. Berikut adalah formula dari BMI : BMI = weight (kg) ÷ height^2 (m^2)\n",
    "\n",
    "Berikut adalah kategorisasi BMI\n",
    "\n",
    "| BMI                 | Kategori BMI             |   |\n",
    "|---------------------|---------------------------|---|\n",
    "| Kurang dari 15        | Very severely underweight |   |\n",
    "| Diantara 15 dan 16   | Severely underweight      |   |\n",
    "| Diantara 16 dan 18.5 | Underweight               |   |\n",
    "| Diantara 18.5 dan 25 | Normal (healthy weight)   |   |\n",
    "| Diantara 25 dan 30   | Overweight                |   |\n",
    "| Diantara 30 dan 35   | Moderately obese          |   |\n",
    "| Diantara 35 dan 40   | Severely obese            |   |\n",
    "| Over 40             | Very severely obese       |   |\n",
    "\n",
    "Buatlah sebuah program yang memiliki dua variabel berat badan dengan satuan KG, dan tinggi badan dengan satuan CM, kemudian keluaran dari program adalah Kategori BMI"
   ]
  },
  {
   "cell_type": "code",
   "execution_count": 31,
   "metadata": {},
   "outputs": [
    {
     "name": "stdout",
     "output_type": "stream",
     "text": [
      "BMI =  19.531249999999996\n",
      "Category = \n",
      "Normal (healthy weight)\n"
     ]
    }
   ],
   "source": [
    "weight=50\n",
    "height=160\n",
    "\n",
    "bmi=(weight)/((height/100)**2)\n",
    "\n",
    "print(\"BMI = \",bmi)\n",
    "\n",
    "print(\"Category = \")\n",
    "\n",
    "if(bmi<0):\n",
    "    print(\"Please check your input\")\n",
    "elif(bmi<15):\n",
    "    print(\"Very severely underweight\")\n",
    "elif(bmi<16):\n",
    "    print(\"Severely underweight\")\n",
    "elif(bmi<18.5):\n",
    "    print(\"Underweight\")\n",
    "elif(bmi<25):\n",
    "    print(\"Normal (healthy weight)\")\n",
    "elif(bmi<30):\n",
    "    print(\"Overweight\")\n",
    "elif(bmi<35):\n",
    "    print(\"Moderately obese\")\n",
    "elif(bmi<40):\n",
    "    print(\"Severely obese\")\n",
    "elif(bmi>40):\n",
    "    print(\"Very severely obese\")"
   ]
  },
  {
   "cell_type": "code",
   "execution_count": null,
   "metadata": {},
   "outputs": [],
   "source": []
  }
 ],
 "metadata": {
  "kernelspec": {
   "display_name": "Python 3",
   "language": "python",
   "name": "python3"
  },
  "language_info": {
   "codemirror_mode": {
    "name": "ipython",
    "version": 3
   },
   "file_extension": ".py",
   "mimetype": "text/x-python",
   "name": "python",
   "nbconvert_exporter": "python",
   "pygments_lexer": "ipython3",
   "version": "3.7.0"
  }
 },
 "nbformat": 4,
 "nbformat_minor": 2
}
