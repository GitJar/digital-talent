{
 "cells": [
  {
   "cell_type": "markdown",
   "metadata": {},
   "source": [
    "# TUGAS LIST\n",
    "\n",
    "Diberikan sekumpulan Nilai Random antara 0 sampai dengan 100 sebanyak 250 nilai. Buatlah program untuk melakukan hal berikut:\n",
    "1. Tampilkan Angka Ganjil dari ke 50 nilai tersebut\n",
    "2. Tampilkan berapa banyak yang mendapatkan nilai lebih dari 70\n",
    "3. Tampilkan standar deviasi dari sekumpulan nilai tersebut\n",
    "4. Tampilkan nilai maksimum dan minimum\n",
    "5. Tampilkan modus dari sekumpulan nilai tersebut"
   ]
  },
  {
   "cell_type": "code",
   "execution_count": 12,
   "metadata": {},
   "outputs": [
    {
     "name": "stdout",
     "output_type": "stream",
     "text": [
      "[19, 76, 6, 51, 92, 10, 37, 38, 17, 57, 69, 87, 55, 61, 56, 36, 4, 35, 61, 11, 37, 2, 40, 5, 92, 97, 32, 48, 87, 7, 85, 21, 91, 15, 15, 7, 46, 99, 81, 11, 7, 80, 56, 70, 83, 54, 54, 41, 35, 67, 59, 63, 94, 34, 3, 49, 55, 39, 21, 26, 72, 97, 25, 80, 39, 73, 87, 99, 31, 4, 29, 29, 74, 90, 63, 33, 14, 69, 49, 34, 50, 55, 56, 90, 51, 93, 34, 40, 88, 40, 8, 68, 41, 27, 52, 55, 84, 97, 23, 88, 66, 9, 76, 26, 79, 70, 96, 21, 92, 28, 25, 99, 64, 31, 94, 39, 98, 97, 70, 43, 33, 77, 34, 14, 98, 58, 25, 28, 54, 56, 86, 84, 70, 46, 11, 69, 91, 27, 50, 71, 60, 99, 31, 72, 75, 6, 9, 90, 33, 77, 75, 72, 45, 82, 24, 87, 32, 12, 9, 31, 54, 70, 68, 89, 12, 23, 48, 11, 50, 72, 48, 61, 13, 43, 8, 7, 28, 2, 79, 61, 51, 36, 7, 19, 6, 16, 18, 74, 76, 12, 21, 79, 60, 59, 35, 73, 22, 88, 76, 31, 72, 64, 81, 90, 36, 76, 87, 65, 22, 72, 86, 35, 24, 65, 46, 18, 25, 15, 97, 90, 41, 25, 70, 22, 79, 78, 56, 91, 67, 10, 92, 4, 59, 37, 60, 83, 35, 86, 50, 80, 27, 27, 23, 18, 91, 33, 98, 88, 63, 64]\n",
      "\n",
      "Nilai Ganjil\n",
      "[19, 51, 37, 17, 57, 69, 87, 55, 61, 35, 61, 11, 37, 5, 97, 87, 7, 85, 21, 91, 15, 15, 7, 99, 81, 11, 7, 83, 41, 35, 67, 59, 63, 3, 49, 55, 39, 21, 97, 25, 39, 73, 87, 99, 31, 29, 29, 63, 33, 69, 49, 55, 51, 93, 41, 27, 55, 97, 23, 9, 79, 21, 25, 99, 31, 39, 97, 43, 33, 77, 25, 11, 69, 91, 27, 71, 99, 31, 75, 9, 33, 77, 75, 45, 87, 9, 31, 89, 23, 11, 61, 13, 43, 7, 79, 61, 51, 7, 19, 21, 79, 59, 35, 73, 31, 81, 87, 65, 35, 65, 25, 15, 97, 41, 25, 79, 91, 67, 59, 37, 83, 35, 27, 27, 23, 91, 33, 63]\n",
      "\n",
      "Nilai > 70\n",
      "[76, 92, 87, 92, 97, 87, 85, 91, 99, 81, 80, 83, 94, 72, 97, 80, 73, 87, 99, 74, 90, 90, 93, 88, 84, 97, 88, 76, 79, 96, 92, 99, 94, 98, 97, 77, 98, 86, 84, 91, 71, 99, 72, 75, 90, 77, 75, 72, 82, 87, 89, 72, 79, 74, 76, 79, 73, 88, 76, 72, 81, 90, 76, 87, 72, 86, 97, 90, 79, 78, 91, 92, 83, 86, 80, 91, 98, 88]\n",
      "\n",
      "Nilai Max\n",
      "99\n",
      "\n",
      "Nilai Min\n",
      "2\n"
     ]
    }
   ],
   "source": [
    "import random\n",
    "\n",
    "# GENERATE RANDOM\n",
    "nilaiTugas = []\n",
    "for i in range(250):\n",
    "    nilaiTugas.append(random.randrange(1,100,1))\n",
    "\n",
    "print(nilaiTugas)\n",
    "\n",
    "# TAMPILKAN:\n",
    "# ganjil\n",
    "nilaiGanjil = []\n",
    "for i in nilaiTugas:\n",
    "    if i%2 == 0:\n",
    "        continue\n",
    "    nilaiGanjil.append(i)\n",
    "print(\"\\nNilai Ganjil\")\n",
    "print(nilaiGanjil)\n",
    "# nilai > 70\n",
    "nilai70 = []\n",
    "for i in nilaiTugas:\n",
    "    if i>70:\n",
    "        nilai70.append(i)\n",
    "    continue\n",
    "print(\"\\nNilai > 70\")\n",
    "print(nilai70)\n",
    "# standar deviasi\n",
    "# ...\n",
    "# maksimum\n",
    "nilaiMax = 0\n",
    "for i in nilaiTugas:\n",
    "    if i > nilaiMax:\n",
    "        nilaiMax=i\n",
    "    else:\n",
    "        continue\n",
    "print(\"\\nNilai Max\")\n",
    "print(nilaiMax)\n",
    "# minimum\n",
    "nilaiMin = nilaiMax\n",
    "for i in nilaiTugas:\n",
    "    if i < nilaiMin:\n",
    "        nilaiMin=i\n",
    "    else:\n",
    "        continue\n",
    "print(\"\\nNilai Min\")\n",
    "print(nilaiMin)\n",
    "# modus\n",
    "# ..."
   ]
  },
  {
   "cell_type": "code",
   "execution_count": null,
   "metadata": {},
   "outputs": [],
   "source": []
  }
 ],
 "metadata": {
  "kernelspec": {
   "display_name": "Python 3",
   "language": "python",
   "name": "python3"
  },
  "language_info": {
   "codemirror_mode": {
    "name": "ipython",
    "version": 3
   },
   "file_extension": ".py",
   "mimetype": "text/x-python",
   "name": "python",
   "nbconvert_exporter": "python",
   "pygments_lexer": "ipython3",
   "version": "3.7.0"
  }
 },
 "nbformat": 4,
 "nbformat_minor": 2
}
