{
 "cells": [
  {
   "cell_type": "markdown",
   "metadata": {},
   "source": [
    "# TUGAS LIST\n",
    "\n",
    "Diberikan sekumpulan Nilai Random antara 0 sampai dengan 100 sebanyak 250 nilai. Buatlah program untuk melakukan hal berikut:\n",
    "1. Tampilkan Angka Ganjil dari ke 50 nilai tersebut\n",
    "2. Tampilkan berapa banyak yang mendapatkan nilai lebih dari 70\n",
    "3. Tampilkan standar deviasi dari sekumpulan nilai tersebut\n",
    "4. Tampilkan nilai maksimum dan minimum\n",
    "5. Tampilkan modus dari sekumpulan nilai tersebut"
   ]
  },
  {
   "cell_type": "code",
   "execution_count": 46,
   "metadata": {},
   "outputs": [
    {
     "name": "stdout",
     "output_type": "stream",
     "text": [
      "[97, 2, 33, 39, 9, 33, 52, 78, 55, 97, 79, 21, 90, 5, 78, 64, 29, 69, 35, 74, 41, 1, 32, 49, 68, 97, 2, 55, 19, 20, 38, 43, 23, 82, 92, 67, 74, 89, 31, 57, 77, 9, 84, 74, 40, 52, 20, 29, 93, 95, 73, 44, 41, 9, 18, 62, 33, 63, 46, 88, 82, 73, 96, 23, 78, 12, 80, 29, 93, 22, 22, 78, 12, 63, 21, 92, 73, 15, 77, 87, 73, 40, 27, 78, 60, 88, 38, 56, 71, 8, 64, 30, 47, 56, 45, 94, 31, 1, 3, 60, 79, 38, 40, 54, 31, 21, 76, 71, 9, 93, 63, 92, 64, 91, 27, 72, 25, 69, 66, 54, 26, 59, 75, 44, 28, 74, 27, 49, 4, 38, 47, 11, 72, 82, 38, 54, 74, 64, 33, 13, 24, 12, 60, 11, 79, 15, 91, 59, 76, 91, 35, 22, 59, 53, 19, 44, 50, 33, 82, 13, 77, 7, 17, 10, 44, 55, 88, 85, 27, 31, 39, 83, 66, 46, 57, 57, 23, 96, 12, 49, 5, 24, 11, 33, 33, 44, 20, 79, 71, 23, 59, 37, 20, 4, 37, 53, 44, 78, 17, 63, 85, 9, 59, 13, 82, 27, 55, 64, 43, 76, 82, 92, 57, 90, 36, 73, 89, 61, 8, 3, 67, 9, 68, 80, 38, 92, 3, 16, 14, 23, 47, 46, 49, 47, 79, 59, 87, 19, 85, 17, 48, 95, 82, 70, 92, 89, 31, 77, 97, 8]\n",
      "\n",
      "Nilai Ganjil\n",
      "[97, 33, 39, 9, 33, 55, 97, 79, 21, 5, 29, 69, 35, 41, 1, 49, 97, 55, 19, 43, 23, 67, 89, 31, 57, 77, 9, 29, 93, 95, 73, 41, 9, 33, 63, 73, 23, 29, 93, 63, 21, 73, 15, 77, 87, 73, 27, 71, 47, 45, 31, 1, 3, 79, 31, 21, 71, 9, 93, 63, 91, 27, 25, 69, 59, 75, 27, 49, 47, 11, 33, 13, 11, 79, 15, 91, 59, 91, 35, 59, 53, 19, 33, 13, 77, 7, 17, 55, 85, 27, 31, 39, 83, 57, 57, 23, 49, 5, 11, 33, 33, 79, 71, 23, 59, 37, 37, 53, 17, 63, 85, 9, 59, 13, 27, 55, 43, 57, 73, 89, 61, 3, 67, 9, 3, 23, 47, 49, 47, 79, 59, 87, 19, 85, 17, 95, 89, 31, 77, 97]\n",
      "\n",
      "Nilai > 70\n",
      "[97, 78, 97, 79, 90, 78, 74, 97, 82, 92, 74, 89, 77, 84, 74, 93, 95, 73, 88, 82, 73, 96, 78, 80, 93, 78, 92, 73, 77, 87, 73, 78, 88, 71, 94, 79, 76, 71, 93, 92, 91, 72, 75, 74, 72, 82, 74, 79, 91, 76, 91, 82, 77, 88, 85, 83, 96, 79, 71, 78, 85, 82, 76, 82, 92, 90, 73, 89, 80, 92, 79, 87, 85, 95, 82, 92, 89, 77, 97]\n",
      "\n",
      "Standar Deviasi\n",
      "Jumlah Elemen =  250\n",
      "Hasil SUM(i) =  12604\n",
      "Hasil SUM(i^2) =  829980\n",
      "Variant =  2321020.0\n",
      "StandarDeviasi =  1523.4894157820722\n",
      "\n",
      "Nilai Max\n",
      "97\n",
      "\n",
      "Nilai Min\n",
      "1\n"
     ]
    }
   ],
   "source": [
    "import random\n",
    "\n",
    "# GENERATE RANDOM\n",
    "nilaiTugas = []\n",
    "for i in range(250):\n",
    "    nilaiTugas.append(random.randrange(1,100,1))\n",
    "\n",
    "print(nilaiTugas)\n",
    "\n",
    "# TAMPILKAN:\n",
    "# ganjil\n",
    "nilaiGanjil = []\n",
    "for i in nilaiTugas:\n",
    "    if i%2 == 0:\n",
    "        continue\n",
    "    nilaiGanjil.append(i)\n",
    "print(\"\\nNilai Ganjil\")\n",
    "print(nilaiGanjil)\n",
    "# nilai > 70\n",
    "nilai70 = []\n",
    "for i in nilaiTugas:\n",
    "    if i>70:\n",
    "        nilai70.append(i)\n",
    "    continue\n",
    "print(\"\\nNilai > 70\")\n",
    "print(nilai70)\n",
    "# standar deviasi\n",
    "po = 0\n",
    "plus = 0\n",
    "jumlah = 0\n",
    "banyak = len(nilaiTugas)\n",
    "for i in nilaiTugas:\n",
    "    plus += i\n",
    "    po = i**2\n",
    "    jumlah += po\n",
    "print(\"\\nStandar Deviasi\")\n",
    "variant = (((banyak*plus)-jumlah)/(banyak-(banyak-1)))\n",
    "standarDev = (((banyak*plus)-jumlah)/(banyak-(banyak-1)))**0.5\n",
    "print(\"Jumlah Elemen = \",banyak)\n",
    "print(\"Hasil SUM(i) = \",plus)\n",
    "print(\"Hasil SUM(i^2) = \",jumlah)\n",
    "print(\"Variant = \",variant)\n",
    "print(\"StandarDeviasi = \",standarDev)\n",
    "\n",
    "# maksimum\n",
    "nilaiMax = 0\n",
    "for i in nilaiTugas:\n",
    "    if i > nilaiMax:\n",
    "        nilaiMax=i\n",
    "    else:\n",
    "        continue\n",
    "print(\"\\nNilai Max\")\n",
    "print(nilaiMax)\n",
    "# minimum\n",
    "nilaiMin = nilaiMax\n",
    "for i in nilaiTugas:\n",
    "    if i < nilaiMin:\n",
    "        nilaiMin=i\n",
    "    else:\n",
    "        continue\n",
    "print(\"\\nNilai Min\")\n",
    "print(nilaiMin)\n",
    "# modus\n",
    "# ..."
   ]
  },
  {
   "cell_type": "code",
   "execution_count": null,
   "metadata": {},
   "outputs": [],
   "source": []
  }
 ],
 "metadata": {
  "kernelspec": {
   "display_name": "Python 3",
   "language": "python",
   "name": "python3"
  },
  "language_info": {
   "codemirror_mode": {
    "name": "ipython",
    "version": 3
   },
   "file_extension": ".py",
   "mimetype": "text/x-python",
   "name": "python",
   "nbconvert_exporter": "python",
   "pygments_lexer": "ipython3",
   "version": "3.7.0"
  }
 },
 "nbformat": 4,
 "nbformat_minor": 2
}
