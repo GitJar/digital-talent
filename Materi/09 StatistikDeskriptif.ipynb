{
 "cells": [
  {
   "cell_type": "markdown",
   "metadata": {},
   "source": [
    "## Statistics Desktiptif dengan pandas Dataframe"
   ]
  },
  {
   "cell_type": "markdown",
   "metadata": {},
   "source": [
    "Ketika kita memiliki data serangkaian pengamatan, akan berguna untuk meringkas fitur data ke dalam satu pernyataan yang disebut statistik deskriptif. Statistik ini dibagi dalam dua kategori umum: ukuran pemusatan data (**central tendency**) dan ukuran penyebaran data (**spread**)"
   ]
  },
  {
   "cell_type": "code",
   "execution_count": 2,
   "metadata": {},
   "outputs": [
    {
     "data": {
      "text/html": [
       "<div>\n",
       "<style scoped>\n",
       "    .dataframe tbody tr th:only-of-type {\n",
       "        vertical-align: middle;\n",
       "    }\n",
       "\n",
       "    .dataframe tbody tr th {\n",
       "        vertical-align: top;\n",
       "    }\n",
       "\n",
       "    .dataframe thead th {\n",
       "        text-align: right;\n",
       "    }\n",
       "</style>\n",
       "<table border=\"1\" class=\"dataframe\">\n",
       "  <thead>\n",
       "    <tr style=\"text-align: right;\">\n",
       "      <th></th>\n",
       "      <th>name</th>\n",
       "      <th>age</th>\n",
       "      <th>preTestScore</th>\n",
       "      <th>postTestScore</th>\n",
       "      <th>sex</th>\n",
       "    </tr>\n",
       "  </thead>\n",
       "  <tbody>\n",
       "    <tr>\n",
       "      <th>0</th>\n",
       "      <td>Jason</td>\n",
       "      <td>42</td>\n",
       "      <td>4</td>\n",
       "      <td>25</td>\n",
       "      <td>M</td>\n",
       "    </tr>\n",
       "    <tr>\n",
       "      <th>1</th>\n",
       "      <td>Molly</td>\n",
       "      <td>52</td>\n",
       "      <td>24</td>\n",
       "      <td>94</td>\n",
       "      <td>F</td>\n",
       "    </tr>\n",
       "    <tr>\n",
       "      <th>2</th>\n",
       "      <td>Tina</td>\n",
       "      <td>42</td>\n",
       "      <td>31</td>\n",
       "      <td>57</td>\n",
       "      <td>F</td>\n",
       "    </tr>\n",
       "    <tr>\n",
       "      <th>3</th>\n",
       "      <td>Jake</td>\n",
       "      <td>24</td>\n",
       "      <td>4</td>\n",
       "      <td>62</td>\n",
       "      <td>M</td>\n",
       "    </tr>\n",
       "    <tr>\n",
       "      <th>4</th>\n",
       "      <td>Amy</td>\n",
       "      <td>73</td>\n",
       "      <td>3</td>\n",
       "      <td>70</td>\n",
       "      <td>F</td>\n",
       "    </tr>\n",
       "    <tr>\n",
       "      <th>5</th>\n",
       "      <td>Joane</td>\n",
       "      <td>52</td>\n",
       "      <td>28</td>\n",
       "      <td>76</td>\n",
       "      <td>F</td>\n",
       "    </tr>\n",
       "  </tbody>\n",
       "</table>\n",
       "</div>"
      ],
      "text/plain": [
       "    name  age  preTestScore  postTestScore sex\n",
       "0  Jason   42             4             25   M\n",
       "1  Molly   52            24             94   F\n",
       "2   Tina   42            31             57   F\n",
       "3   Jake   24             4             62   M\n",
       "4    Amy   73             3             70   F\n",
       "5  Joane   52            28             76   F"
      ]
     },
     "execution_count": 2,
     "metadata": {},
     "output_type": "execute_result"
    }
   ],
   "source": [
    "import numpy as np\n",
    "import pandas as pd\n",
    "data = {'name': ['Jason', 'Molly', 'Tina', 'Jake', 'Amy', 'Joane'], \n",
    "        'age': [42, 52, 42, 24, 73, 52], \n",
    "        'preTestScore': [4, 24, 31, 4, 3, 28],\n",
    "        'postTestScore': [25, 94, 57, 62, 70, 76],\n",
    "        'sex': ['M', 'F', 'F', 'M', 'F', 'F']}\n",
    "df = pd.DataFrame(data, columns = ['name', 'age', 'preTestScore', 'postTestScore', 'sex'])\n",
    "df"
   ]
  },
  {
   "cell_type": "code",
   "execution_count": 5,
   "metadata": {},
   "outputs": [],
   "source": [
    "df.to_csv('data_0211_01.csv',index=False)"
   ]
  },
  {
   "cell_type": "code",
   "execution_count": 10,
   "metadata": {},
   "outputs": [
    {
     "data": {
      "text/html": [
       "<div>\n",
       "<style scoped>\n",
       "    .dataframe tbody tr th:only-of-type {\n",
       "        vertical-align: middle;\n",
       "    }\n",
       "\n",
       "    .dataframe tbody tr th {\n",
       "        vertical-align: top;\n",
       "    }\n",
       "\n",
       "    .dataframe thead th {\n",
       "        text-align: right;\n",
       "    }\n",
       "</style>\n",
       "<table border=\"1\" class=\"dataframe\">\n",
       "  <thead>\n",
       "    <tr style=\"text-align: right;\">\n",
       "      <th></th>\n",
       "      <th>name</th>\n",
       "      <th>age</th>\n",
       "      <th>preTestScore</th>\n",
       "      <th>postTestScore</th>\n",
       "      <th>sex</th>\n",
       "    </tr>\n",
       "  </thead>\n",
       "  <tbody>\n",
       "    <tr>\n",
       "      <th>0</th>\n",
       "      <td>Jason</td>\n",
       "      <td>42</td>\n",
       "      <td>4</td>\n",
       "      <td>25</td>\n",
       "      <td>M</td>\n",
       "    </tr>\n",
       "    <tr>\n",
       "      <th>1</th>\n",
       "      <td>Molly</td>\n",
       "      <td>52</td>\n",
       "      <td>24</td>\n",
       "      <td>94</td>\n",
       "      <td>F</td>\n",
       "    </tr>\n",
       "    <tr>\n",
       "      <th>2</th>\n",
       "      <td>Tina</td>\n",
       "      <td>42</td>\n",
       "      <td>31</td>\n",
       "      <td>57</td>\n",
       "      <td>F</td>\n",
       "    </tr>\n",
       "    <tr>\n",
       "      <th>3</th>\n",
       "      <td>Jake</td>\n",
       "      <td>24</td>\n",
       "      <td>4</td>\n",
       "      <td>62</td>\n",
       "      <td>M</td>\n",
       "    </tr>\n",
       "    <tr>\n",
       "      <th>4</th>\n",
       "      <td>Amy</td>\n",
       "      <td>73</td>\n",
       "      <td>3</td>\n",
       "      <td>70</td>\n",
       "      <td>F</td>\n",
       "    </tr>\n",
       "    <tr>\n",
       "      <th>5</th>\n",
       "      <td>Joane</td>\n",
       "      <td>52</td>\n",
       "      <td>28</td>\n",
       "      <td>76</td>\n",
       "      <td>F</td>\n",
       "    </tr>\n",
       "  </tbody>\n",
       "</table>\n",
       "</div>"
      ],
      "text/plain": [
       "    name  age  preTestScore  postTestScore sex\n",
       "0  Jason   42             4             25   M\n",
       "1  Molly   52            24             94   F\n",
       "2   Tina   42            31             57   F\n",
       "3   Jake   24             4             62   M\n",
       "4    Amy   73             3             70   F\n",
       "5  Joane   52            28             76   F"
      ]
     },
     "execution_count": 10,
     "metadata": {},
     "output_type": "execute_result"
    }
   ],
   "source": [
    "data_csv = pd.read_csv('data_0211_01.csv')\n",
    "data_csv"
   ]
  },
  {
   "cell_type": "markdown",
   "metadata": {},
   "source": [
    "### 1. Ukuran Pemusatan Data\n",
    "Salah satu aspek yang paling penting untuk menggambarkan distribusi data adalah nilai pusat data. \n",
    "Terdapat tiga ukuran tendensi sentral yang sering digunakan, yaitu:\n",
    "* Mean (Rata-rata hitung/rata-rata aritmetika)\n",
    "* Median\n",
    "* Mode\n"
   ]
  },
  {
   "cell_type": "code",
   "execution_count": null,
   "metadata": {},
   "outputs": [],
   "source": [
    "#df['age'].sum()\n",
    "#df['age'].count()\n",
    "#df[0:4]['age'].median()\n"
   ]
  },
  {
   "cell_type": "markdown",
   "metadata": {},
   "source": [
    "### Rata-rata (mean)\n",
    "Rata-rata (mean) merupakan metode yang paling banyak digunakan untuk menggambarkan ukuran tendensi sentral. Mean dihitung dengan menjumlahkan semua nilai data pengamatan kemudian dibagi dengan banyaknya data."
   ]
  },
  {
   "cell_type": "code",
   "execution_count": 12,
   "metadata": {},
   "outputs": [
    {
     "data": {
      "text/plain": [
       "15.666666666666666"
      ]
     },
     "execution_count": 12,
     "metadata": {},
     "output_type": "execute_result"
    }
   ],
   "source": [
    "# Menghitung rata-rata\n",
    "df['preTestScore'].mean()"
   ]
  },
  {
   "cell_type": "markdown",
   "metadata": {},
   "source": [
    "### Median\n",
    "Median dari n pengukuran atau pengamatan x1, x2 ,..., xn adalah nilai pengamatan yang terletak di tengah gugus data setelah data tersebut diurutkan. Apabila banyaknya pengamatan (n) ganjil, median terletak tepat ditengah gugus data, sedangkan bila n genap, median diperoleh dengan cara interpolasi yaitu rata-rata dari dua data yang berada di tengah gugus data."
   ]
  },
  {
   "cell_type": "code",
   "execution_count": 13,
   "metadata": {},
   "outputs": [
    {
     "data": {
      "text/plain": [
       "14.0"
      ]
     },
     "execution_count": 13,
     "metadata": {},
     "output_type": "execute_result"
    }
   ],
   "source": [
    "# Menghitung median\n",
    "df['preTestScore'].median()"
   ]
  },
  {
   "cell_type": "markdown",
   "metadata": {},
   "source": [
    "### Mode (modus)\n",
    "Mode adalah data yang paling sering muncul/terjadi. Untuk menentukan modus, pertama susun data dalam urutan meningkat atau sebaliknya, kemudian hitung frekuensinya. Nilai yang frekuensinya paling besar (sering muncul) adalah modus. Modus digunakan baik untuk tipe data numerik atau pun data kategoris. Modus tidak dipengaruhi oleh nilai ekstrem. Beberapa kemungkinan tentang modus suatu gugus data:\n",
    "\n",
    "* Apabila pada sekumpulan data terdapat dua mode, maka gugus data tersebut dikatakan **bimodal**.\n",
    "* Apabila pada sekumpulan data terdapat lebih dari dua mode, maka gugus data tersebut dikatakan **multimodal**.\n",
    "* Apabila pada sekumpulan data tidak terdapat mode, maka gugus data tersebut dikatakan tidak mempunyai modus.\n"
   ]
  },
  {
   "cell_type": "code",
   "execution_count": 14,
   "metadata": {},
   "outputs": [
    {
     "data": {
      "text/plain": [
       "0    4\n",
       "dtype: int64"
      ]
     },
     "execution_count": 14,
     "metadata": {},
     "output_type": "execute_result"
    }
   ],
   "source": [
    "# Menghitung mode\n",
    "df['preTestScore'].mode()"
   ]
  },
  {
   "cell_type": "code",
   "execution_count": 15,
   "metadata": {},
   "outputs": [
    {
     "data": {
      "text/plain": [
       "0    F\n",
       "dtype: object"
      ]
     },
     "execution_count": 15,
     "metadata": {},
     "output_type": "execute_result"
    }
   ],
   "source": [
    "# Menghitung mode data kategoris\n",
    "df['sex'].mode()"
   ]
  },
  {
   "cell_type": "markdown",
   "metadata": {},
   "source": [
    "### Karakteristik penting untuk ukuran tendensi sentral yang baik\n",
    "\n",
    "Ukuran nilai pusat/tendensi sentral (average) merupakan nilai pewakil dari suatu distribusi data, sehingga harus memiliki sifat-sifat berikut:\n",
    "\n",
    "* Harus mempertimbangkan semua gugus data\n",
    "* Tidak boleh terpengaruh oleh nilai-nilai ekstrim.\n",
    "* Harus stabil dari sampel ke sampel.\n",
    "* Harus mampu digunakan untuk analisis statistik lebih lanjut.\n",
    "\n",
    "Dari beberapa ukuran nilai pusat, Mean hampir memenuhi semua persyaratan tersebut, kecuali syarat pada point kedua, rata-rata dipengaruhi oleh nilai ekstrem. Sebagai contoh, jika item adalah 2; 4; 5; 6; 6; 6; 7; 7; 8; 9 maka mean, median dan modus semua bernilai sama, yaitu 6. Jika nilai terakhir adalah 90 bukan 9, rata-rata akan menjadi 14.10, sedangkan median dan modus tidak berubah. Meskipun dalam hal ini median dan modus lebih baik, namun tidak memenuhi persyaratan lainnya. Oleh karena itu Mean merupakan ukuran nilai pusat yang terbaik dan sering digunakan dalam analisis statistik."
   ]
  },
  {
   "cell_type": "markdown",
   "metadata": {},
   "source": [
    "### Kapan kita menggunakan nilai tendensi sentral yang berbeda?\n",
    "\n",
    "Nilai ukuran pusat yang tepat untuk digunakan tergantung pada sifat data, sifat distribusi frekuensi dan tujuan. Jika data bersifat ketegoris (kualitatif), hanya modus yang dapat digunakan. Sebagai contoh, apabila kita tertarik untuk mengetahui jenis tanah yang khas di suatu lokasi, atau pola tanam di suatu daerah, kita hanya dapat menggunakan modus. \n",
    "\n",
    "Di sisi lain, jika data bersifat numerik (kuantitatif), kita dapat menggunakan salah satu dari ukuran nilai pusat tersebut, mean atau median atau modus. Meskipun pada jenis data kuantitatif kita dapat menggunakan ketiga ukuran tendensi sentral, namun kita harus mempertimbangkan sifat distribusi frekuensi dari gugus data tersebut.\n",
    "\n",
    "* Bila distribusi frekuensi data **tidak normal** (tidak simetris), median atau modus merupakan ukuran pusat yang tepat.\n",
    "* Apabila terdapat nilai-nilai **ekstrim**, baik kecil atau besar, lebih tepat menggunakan median atau modus.\n",
    "* Apabila distribusi data normal (simetris), semua ukuran nilai pusat, baik mean, median, atau modus dapat digunakan. Namun, mean lebih sering digunakan dibanding yang lainnya karena lebih memenuhi persyaratan untuk ukuran pusat yang baik."
   ]
  },
  {
   "cell_type": "markdown",
   "metadata": {},
   "source": [
    "### Fungsi-fungsi lain pada data numerik"
   ]
  },
  {
   "cell_type": "code",
   "execution_count": 24,
   "metadata": {},
   "outputs": [
    {
     "data": {
      "text/plain": [
       "0     4\n",
       "1    28\n",
       "2    59\n",
       "3    63\n",
       "4    66\n",
       "5    94\n",
       "Name: preTestScore, dtype: int64"
      ]
     },
     "execution_count": 24,
     "metadata": {},
     "output_type": "execute_result"
    }
   ],
   "source": [
    "df['preTestScore'].cumsum() #menambah perbaris ke bawah"
   ]
  },
  {
   "cell_type": "code",
   "execution_count": 17,
   "metadata": {},
   "outputs": [
    {
     "data": {
      "text/plain": [
       "6"
      ]
     },
     "execution_count": 17,
     "metadata": {},
     "output_type": "execute_result"
    }
   ],
   "source": [
    "df['preTestScore'].count()"
   ]
  },
  {
   "cell_type": "code",
   "execution_count": 18,
   "metadata": {},
   "outputs": [
    {
     "data": {
      "text/plain": [
       "3"
      ]
     },
     "execution_count": 18,
     "metadata": {},
     "output_type": "execute_result"
    }
   ],
   "source": [
    "df['preTestScore'].min()"
   ]
  },
  {
   "cell_type": "code",
   "execution_count": 19,
   "metadata": {},
   "outputs": [
    {
     "data": {
      "text/plain": [
       "31"
      ]
     },
     "execution_count": 19,
     "metadata": {},
     "output_type": "execute_result"
    }
   ],
   "source": [
    "df['preTestScore'].max()"
   ]
  },
  {
   "cell_type": "code",
   "execution_count": null,
   "metadata": {
    "collapsed": true
   },
   "outputs": [],
   "source": []
  },
  {
   "cell_type": "code",
   "execution_count": 20,
   "metadata": {},
   "outputs": [
    {
     "data": {
      "text/plain": [
       "count     6.000000\n",
       "mean     15.666667\n",
       "std      13.336666\n",
       "min       3.000000\n",
       "25%       4.000000\n",
       "50%      14.000000\n",
       "75%      27.000000\n",
       "max      31.000000\n",
       "Name: preTestScore, dtype: float64"
      ]
     },
     "execution_count": 20,
     "metadata": {},
     "output_type": "execute_result"
    }
   ],
   "source": [
    "# Menghitung Pemusatan data dengan describe()\n",
    "df['preTestScore'].describe()"
   ]
  },
  {
   "cell_type": "markdown",
   "metadata": {},
   "source": [
    "## 2. Ukuran Penyebaran Data\n",
    "Ukuran penyebaran atau ukuran keragaman pengamatan dari nilai rata-ratanya disebut simpangan (deviation/dispersi). Terdapat beberapa ukuran untuk menentukan dispersi data pengamatan:\n",
    "* Jangkauan/rentang (range)\n",
    "* simpangan kuartil (quartile deviation)\n",
    "* simpangan baku (standard deviation)."
   ]
  },
  {
   "cell_type": "markdown",
   "metadata": {},
   "source": [
    "### Jangkauan/rentang (Range)\n",
    "Ukuran penyebaran yang paling sederhana adalah Range (Jangkauan/Rentang). Range dari suatu kelompok data pengamatan adalah selisih antara nilai minimum dan maksimum.\n",
    "\n",
    "Berapakah Range dari postTestScore?"
   ]
  },
  {
   "cell_type": "markdown",
   "metadata": {},
   "source": [
    "Range hanya memperhitungkan dua nilai, yaitu nilai maksimum dan nilai minimum dan tidak memperhitungkan semua nilai, sehingga sangat tidak stabil atau tidak dapat diandalkan sebagai indikator dari ukuran penyebaran. Hal ini terjadi karena range sangat dipengaruhi oleh nilai-nilai ekstrim.\n",
    "\n",
    "Kelemahan lain dari Range adalah tidak menggambarkan sebaran data terhadap nilai pusatnya. Untuk menghindari kelemahan range seperti di atas, ukuran dispersi lain seperti simpangan kuartil"
   ]
  },
  {
   "cell_type": "markdown",
   "metadata": {},
   "source": [
    "### Simpangan kuartil (Quartile Deviation)\n",
    "\n",
    "Simpangan kuartil dihitung dengan cara menghapus nilai-nilai yang terletak di bawah kuartil pertama dan nilai-nilai di atas kuartil ketiga, sehingga nilai-nilai ekstrem, baik yang berada di bawah ataupun di atas distribusi data, dihilangkan.\n",
    "\n",
    "Simpangan kuartil didapatkan dengan cara menghitung nilai rata-rata dari kedua kuartil tersebut, Q1 dan Q3.\n",
    "\n",
    "Simpangan kuartil = (Q3-Q1)/2"
   ]
  },
  {
   "cell_type": "code",
   "execution_count": null,
   "metadata": {},
   "outputs": [],
   "source": [
    "df.age.quantile([0.25,0.5,0.75])"
   ]
  },
  {
   "cell_type": "code",
   "execution_count": null,
   "metadata": {},
   "outputs": [],
   "source": [
    "np.percentile(df.age,25), np.percentile(df.age,75)"
   ]
  },
  {
   "cell_type": "markdown",
   "metadata": {},
   "source": [
    "Simpangan kuartil lebih stabil dibandingkan dengan Range karena tidak dipengaruhi oleh nilai ekstrem. Nilai-nilai ekstrim sudah dihapus. Meskipun demikian, sama seperti Range, simpangan kuartil juga tetap tidak memperhatikan dan memperhitungkan penyimpangan semua gugus datanya. Simpangan kuartil hanya memperhitungkan nilai pada kuartil pertama dan kuartil ketiga saja."
   ]
  },
  {
   "cell_type": "markdown",
   "metadata": {},
   "source": [
    "### Simpangan baku (standard deviation)\n",
    "Standar deviasi adalah nilai statistik yang dimanfaatkan untuk menentukan bagaimana sebaran data dalam sampel, serta seberapa dekat titik data individu ke mean atau rata-rata nilai sampel. \n",
    "\n",
    "Sebuah standar deviasi dari kumpulan data sama dengan nol menandakan bahwa semua nilai dalam himpunan tersebut adalah sama. Sedangkan nilai deviasi yang lebih besar menunjukkan bahwa titik data individu jauh dari nilai rata-rata. "
   ]
  },
  {
   "cell_type": "code",
   "execution_count": null,
   "metadata": {},
   "outputs": [],
   "source": [
    "df['preTestScore'].var(), df['preTestScore'].std()"
   ]
  },
  {
   "cell_type": "markdown",
   "metadata": {},
   "source": []
  },
  {
   "cell_type": "markdown",
   "metadata": {},
   "source": [
    "# NEW dari Tutorialspoint"
   ]
  },
  {
   "cell_type": "code",
   "execution_count": 25,
   "metadata": {},
   "outputs": [],
   "source": [
    "import numpy as np\n",
    "from matplotlib import pyplot as plt "
   ]
  },
  {
   "cell_type": "code",
   "execution_count": 27,
   "metadata": {},
   "outputs": [
    {
     "data": {
      "text/plain": [
       "array([8.45339328e-01, 1.60865030e-01, 9.76628424e-01, 3.74897332e-01,\n",
       "       7.67756267e-01, 8.07025514e-01, 7.03203678e-01, 7.20497293e-01,\n",
       "       5.21186798e-01, 1.09813616e-01, 5.54035284e-01, 5.87038602e-01,\n",
       "       8.10935381e-01, 5.09621762e-01, 1.21173878e-01, 8.26749720e-01,\n",
       "       9.39377129e-01, 9.51632438e-01, 5.42359144e-01, 7.13481305e-01,\n",
       "       6.95168141e-02, 9.06039285e-01, 6.47189335e-01, 7.57463384e-02,\n",
       "       3.35627681e-01, 5.15570446e-01, 9.61070404e-01, 7.48349468e-01,\n",
       "       4.31926404e-01, 5.11085185e-01, 5.56989987e-01, 1.74491486e-01,\n",
       "       4.57682865e-01, 6.96588718e-01, 5.59372064e-01, 5.34524365e-01,\n",
       "       6.63110717e-01, 8.66943596e-01, 8.47691823e-01, 1.77280869e-02,\n",
       "       7.99903593e-01, 2.56646544e-01, 3.83915844e-01, 4.97152350e-01,\n",
       "       6.12768939e-01, 2.89803573e-01, 7.70994705e-01, 5.69544038e-01,\n",
       "       3.94720419e-01, 8.01343573e-01, 8.14669301e-01, 7.27583045e-01,\n",
       "       8.50255112e-01, 5.27703930e-01, 9.67564131e-01, 3.44073545e-01,\n",
       "       3.09649655e-01, 9.78264555e-01, 8.68735777e-01, 6.22619008e-01,\n",
       "       9.56898750e-01, 1.08029473e-01, 8.16924158e-01, 5.01508006e-01,\n",
       "       6.81937925e-02, 3.80367576e-01, 5.62428918e-01, 4.38033610e-01,\n",
       "       1.56711783e-02, 2.37525334e-01, 7.01261672e-02, 6.50206415e-01,\n",
       "       7.48688568e-01, 8.21434062e-01, 6.12785007e-01, 7.90442701e-01,\n",
       "       1.33137783e-02, 1.20402017e-01, 7.87001349e-01, 5.47665942e-01,\n",
       "       5.98162122e-01, 8.95000740e-01, 1.81633233e-01, 6.28460601e-01,\n",
       "       4.66418424e-01, 1.97767766e-01, 8.13194467e-01, 8.48015244e-01,\n",
       "       2.48212665e-01, 6.08619627e-01, 2.29295263e-02, 9.81512953e-01,\n",
       "       9.50685610e-01, 1.66752258e-01, 2.46043265e-01, 3.86294010e-01,\n",
       "       1.92848658e-01, 2.17846533e-01, 9.82798319e-01, 2.78459016e-01,\n",
       "       8.30909917e-01, 4.00452696e-01, 2.12603620e-01, 9.01814792e-01,\n",
       "       8.22182104e-01, 8.62139613e-02, 9.88861072e-01, 7.56605653e-02,\n",
       "       3.61980832e-01, 9.63685606e-01, 8.14493161e-01, 5.38186616e-01,\n",
       "       5.43040201e-01, 8.10065766e-01, 7.38731858e-01, 4.80795065e-01,\n",
       "       3.06968063e-01, 4.75336921e-02, 7.82263058e-01, 2.98184817e-03,\n",
       "       3.32175751e-01, 7.94795929e-01, 1.03952825e-01, 3.72225837e-01,\n",
       "       4.15679052e-01, 5.77000617e-01, 8.12810341e-01, 9.10528473e-01,\n",
       "       8.78584939e-01, 1.11315138e-01, 3.69903556e-01, 9.11442163e-01,\n",
       "       9.06506186e-02, 9.78472343e-01, 2.17904021e-01, 2.00025471e-01,\n",
       "       8.66380493e-01, 1.16193480e-01, 5.19096206e-01, 8.86373306e-01,\n",
       "       4.16403066e-01, 9.56705274e-01, 1.68353740e-01, 6.97528759e-02,\n",
       "       4.63568418e-01, 9.14799664e-01, 1.58880145e-01, 2.26170254e-02,\n",
       "       6.54682923e-01, 8.01249547e-01, 3.79115346e-01, 4.93761659e-01,\n",
       "       7.36081606e-01, 3.71146469e-01, 3.82226372e-01, 6.39193600e-01,\n",
       "       7.45173868e-03, 4.42372031e-01, 9.22201572e-01, 7.95084704e-01,\n",
       "       6.86011499e-01, 6.31031818e-01, 8.71772509e-01, 4.94175661e-01,\n",
       "       4.26372768e-01, 2.44972161e-01, 1.57994877e-01, 1.38282157e-01,\n",
       "       6.28155712e-02, 2.63694024e-01, 6.71690725e-01, 4.32074433e-01,\n",
       "       1.97854930e-02, 4.67014732e-01, 9.89476449e-01, 4.63361035e-01,\n",
       "       5.96954997e-02, 1.42773153e-01, 8.97016568e-01, 6.90781847e-01,\n",
       "       1.19156789e-01, 2.63583756e-01, 4.56222186e-01, 8.97628620e-01,\n",
       "       4.42970182e-02, 9.34903094e-01, 9.53759889e-01, 2.29805677e-01,\n",
       "       1.65178749e-01, 5.89965015e-02, 9.83513810e-01, 7.81645721e-01,\n",
       "       6.28850864e-01, 6.82731798e-02, 9.30411343e-01, 7.07532628e-01,\n",
       "       3.52593758e-01, 1.79516291e-01, 5.21044171e-01, 6.26163708e-01,\n",
       "       5.14803763e-01, 8.15393301e-01, 8.19321665e-02, 6.75493389e-01,\n",
       "       8.20299012e-01, 1.98451108e-01, 8.16557627e-01, 2.86666373e-02,\n",
       "       2.85456356e-01, 1.76188406e-01, 4.25136310e-01, 7.84434943e-01,\n",
       "       8.87716684e-01, 5.89789826e-01, 4.49250845e-01, 4.12505256e-01,\n",
       "       1.57267949e-01, 2.48871059e-01, 6.67314211e-02, 6.45287695e-02,\n",
       "       3.13170214e-01, 6.30619172e-01, 8.03290781e-01, 7.57086734e-01,\n",
       "       3.01269350e-01, 1.07871479e-01, 3.84530905e-01, 3.56875634e-01,\n",
       "       6.27152884e-01, 3.23077063e-01, 1.24868506e-01, 4.86874039e-02,\n",
       "       9.72101290e-01, 6.24062920e-01, 8.19752241e-01, 4.37029832e-01,\n",
       "       3.18730474e-01, 7.94204340e-01, 8.14186414e-01, 4.87208590e-01,\n",
       "       4.19157727e-01, 5.15718113e-01, 8.64883223e-01, 3.53932009e-01,\n",
       "       1.13445125e-01, 6.55204680e-01, 5.41350599e-02, 9.17710694e-02,\n",
       "       3.73713830e-01, 9.97539077e-02, 7.44937370e-01, 2.47065383e-01,\n",
       "       7.87415173e-01, 9.21886613e-01, 9.34710397e-03, 4.66170891e-01,\n",
       "       6.78443752e-02, 1.70603907e-01, 6.05651199e-01, 9.86768447e-01,\n",
       "       6.52139729e-01, 3.44699950e-01, 2.56513077e-01, 1.02802553e-01,\n",
       "       9.84047375e-02, 7.79033268e-01, 2.47573022e-01, 5.76159991e-01,\n",
       "       4.25310251e-01, 8.21427520e-01, 9.28258883e-01, 6.81702009e-01,\n",
       "       7.29512804e-02, 1.06208876e-01, 2.25147313e-01, 2.64800796e-01,\n",
       "       5.33709852e-01, 7.77712080e-01, 9.07178952e-01, 5.43184091e-01,\n",
       "       7.43534852e-01, 2.10885382e-01, 6.75550506e-01, 8.63109620e-01,\n",
       "       5.17223869e-01, 1.08138528e-01, 2.59188321e-01, 9.57414177e-01,\n",
       "       3.56675324e-01, 6.46677314e-01, 8.58655200e-01, 2.54245900e-01,\n",
       "       6.15797942e-01, 5.52057258e-01, 6.34918869e-01, 2.61305789e-01,\n",
       "       5.07921546e-01, 9.69299115e-01, 1.08618808e-01, 7.51668172e-01,\n",
       "       6.85036736e-01, 7.96234556e-01, 1.19938190e-02, 8.17282296e-01,\n",
       "       6.66736290e-01, 3.43210908e-01, 4.85657883e-01, 6.95416057e-01,\n",
       "       3.91731238e-01, 7.06574099e-01, 4.02856313e-01, 7.86256638e-01,\n",
       "       2.00998893e-01, 3.59497358e-01, 6.56432972e-02, 5.80839213e-01,\n",
       "       3.18139311e-01, 6.15933322e-01, 5.05612372e-01, 1.40350711e-01,\n",
       "       1.18400151e-01, 1.11456149e-01, 2.64721063e-01, 6.48723525e-01,\n",
       "       8.59688313e-02, 7.33370072e-01, 6.40345304e-03, 4.19619600e-01,\n",
       "       9.90081200e-02, 6.20150119e-01, 4.17041668e-01, 1.01143995e-02,\n",
       "       5.24185614e-01, 7.15826934e-01, 3.99096200e-01, 9.87410272e-02,\n",
       "       6.27685785e-01, 2.03919744e-01, 3.86316286e-01, 2.83863032e-01,\n",
       "       5.63053827e-01, 4.64476168e-01, 4.82443689e-01, 5.38789213e-01,\n",
       "       5.74666506e-01, 4.40992698e-01, 5.05759990e-02, 4.72751209e-01,\n",
       "       4.50309997e-01, 4.58504503e-01, 4.22272185e-01, 3.96397954e-02,\n",
       "       6.44372436e-01, 1.75554431e-01, 1.31451033e-01, 1.69907668e-01,\n",
       "       4.77139138e-01, 5.20166127e-01, 4.00837133e-01, 7.17285540e-01,\n",
       "       4.06804705e-01, 1.08383381e-01, 6.34818616e-01, 8.16371786e-01,\n",
       "       1.27805051e-01, 9.69852337e-01, 3.61858410e-01, 2.20137629e-01,\n",
       "       4.50650595e-01, 3.17529741e-01, 6.31508517e-01, 3.56825416e-01,\n",
       "       1.16385849e-01, 7.81884901e-01, 8.61122896e-01, 4.70140352e-01,\n",
       "       5.58866911e-01, 7.82178078e-01, 4.85249846e-01, 7.30875883e-02,\n",
       "       3.42605918e-01, 2.61245563e-01, 4.05112843e-01, 2.34274425e-01,\n",
       "       1.23139729e-01, 3.19995378e-01, 1.02200800e-02, 9.34590624e-01,\n",
       "       8.54751717e-05, 2.62776812e-01, 4.27693270e-01, 2.93405336e-01,\n",
       "       2.57436794e-01, 1.86678990e-01, 7.80293258e-01, 1.12479350e-01,\n",
       "       3.18327601e-01, 2.80883510e-01, 7.36800939e-01, 5.03682021e-01,\n",
       "       9.36041046e-01, 8.16266323e-01, 3.70135724e-01, 9.99287474e-01,\n",
       "       8.39988049e-01, 9.36954436e-01, 7.87647642e-01, 7.37418558e-01,\n",
       "       9.23952874e-01, 4.05234429e-01, 1.35698965e-01, 9.94739918e-01,\n",
       "       4.59519317e-01, 5.78381339e-01, 5.75902778e-01, 7.22591028e-01,\n",
       "       9.08644144e-01, 9.25007532e-01, 6.66236389e-01, 4.69765933e-01,\n",
       "       9.92616588e-01, 5.76711630e-01, 8.03301776e-01, 7.67160502e-01,\n",
       "       2.37127873e-01, 7.01727818e-01, 7.24473279e-01, 3.90149575e-02,\n",
       "       6.40404706e-01, 3.50548230e-01, 1.28581570e-01, 6.43392521e-01,\n",
       "       3.91910318e-01, 3.41280480e-01, 7.14546135e-01, 6.43058763e-01,\n",
       "       3.67825258e-01, 2.65713886e-01, 5.25479863e-01, 8.96654605e-01,\n",
       "       1.68313528e-01, 8.99029955e-01, 8.89892232e-01, 6.89657044e-01,\n",
       "       4.08418150e-01, 8.02498321e-01, 2.93318574e-01, 3.11639285e-01,\n",
       "       4.91692116e-01, 2.29268043e-01, 2.54931105e-01, 1.36498152e-01,\n",
       "       2.69225658e-01, 3.71068306e-01, 5.50861667e-01, 6.96065130e-01,\n",
       "       2.01467546e-01, 4.35051506e-01, 9.00268716e-02, 5.39401860e-01,\n",
       "       1.20147626e-02, 8.44509052e-01, 2.51311273e-01, 5.20183869e-01,\n",
       "       9.40841816e-01, 8.85178184e-01, 2.15144165e-01, 1.75843116e-01,\n",
       "       4.58613762e-01, 2.72353246e-02, 3.22770732e-01, 2.47297863e-01,\n",
       "       4.14159981e-01, 1.06727994e-01, 1.29165984e-02, 3.41616129e-02,\n",
       "       7.39509607e-01, 7.99887744e-01, 2.92053230e-01, 5.19064279e-02,\n",
       "       7.53759074e-01, 2.81504529e-01, 4.25001837e-01, 1.49665189e-01,\n",
       "       1.14609488e-01, 5.25591958e-01, 8.56986518e-01, 5.64518329e-01,\n",
       "       5.11462535e-01, 1.04278222e-01, 6.85352683e-02, 3.60240254e-01,\n",
       "       9.56527991e-01, 6.43723933e-01, 5.40976701e-01, 9.31690031e-01,\n",
       "       2.89722762e-01, 9.07095278e-01, 1.38648634e-01, 3.58532035e-01,\n",
       "       1.14386168e-01, 4.28454928e-02, 8.60035257e-01, 8.66517401e-02,\n",
       "       6.16584949e-01, 4.48535570e-01, 6.53878745e-01, 7.11795547e-01,\n",
       "       6.26294698e-01, 3.87870179e-01, 8.44038435e-01, 7.62900589e-01,\n",
       "       9.99777228e-01, 3.44413056e-01, 7.23130384e-01, 9.63100695e-01,\n",
       "       5.68417406e-01, 6.72487591e-01, 5.06331570e-01, 4.00881857e-02,\n",
       "       9.83328916e-01, 9.98082495e-01, 1.32763014e-01, 3.36171604e-01,\n",
       "       1.88135870e-01, 9.15513483e-01, 4.44282761e-01, 1.21863887e-01,\n",
       "       1.23068839e-01, 1.01522052e-01, 3.60776295e-01, 3.90824440e-01,\n",
       "       2.61324850e-01, 5.87646486e-03, 2.98183237e-01, 1.47385487e-01,\n",
       "       8.53962144e-01, 8.00258305e-01, 9.58363048e-01, 4.79804021e-02,\n",
       "       2.85181630e-01, 5.28401724e-01, 9.50117097e-01, 7.62417235e-01,\n",
       "       5.80212323e-01, 3.03524731e-02, 1.30544958e-02, 7.24168102e-02,\n",
       "       9.98865335e-01, 5.43680726e-01, 5.81677032e-01, 6.00616322e-01,\n",
       "       3.80430622e-01, 7.32449213e-01, 3.81717841e-01, 1.39397236e-01,\n",
       "       5.00145475e-01, 3.55507119e-01, 2.67523569e-01, 5.48847957e-01,\n",
       "       2.43192764e-01, 5.42431079e-02, 5.43947827e-01, 5.91952731e-01,\n",
       "       1.64982181e-01, 2.64873337e-01, 6.85656985e-01, 3.02879599e-01,\n",
       "       2.07236476e-02, 2.96756694e-01, 4.13647553e-01, 5.49314626e-01,\n",
       "       9.76055438e-01, 3.33633016e-01, 6.26031631e-01, 9.79365271e-01,\n",
       "       7.66227053e-01, 5.87574744e-01, 2.37072209e-01, 6.37138046e-01,\n",
       "       4.42071894e-01, 8.12201764e-02, 1.87085910e-01, 4.37218024e-01,\n",
       "       4.49082444e-02, 2.56231645e-01, 9.72784009e-01, 8.73960497e-01,\n",
       "       2.87534923e-01, 8.74494925e-01, 6.22734862e-01, 2.98462970e-01,\n",
       "       4.02271273e-01, 1.61786384e-01, 9.36686081e-01, 9.85568003e-01,\n",
       "       4.15152904e-01, 8.18537379e-01, 4.60864751e-01, 4.64278312e-01,\n",
       "       6.13054560e-01, 4.37142858e-01, 4.27925610e-01, 1.14645446e-01,\n",
       "       8.87134922e-01, 9.33712267e-01, 5.05720652e-01, 6.76835746e-01,\n",
       "       2.80535399e-01, 1.18301816e-01, 4.81391755e-01, 3.71935200e-01,\n",
       "       4.48772891e-01, 8.41908655e-01, 9.82169259e-01, 5.48524748e-01,\n",
       "       3.18563642e-01, 4.09459616e-01, 7.72478704e-01, 8.89910714e-01,\n",
       "       1.50252904e-01, 5.57930537e-01, 4.45642866e-03, 2.91216932e-01,\n",
       "       6.11352086e-01, 9.20496507e-01, 7.15599239e-01, 3.11262834e-02,\n",
       "       9.81924907e-02, 4.51987559e-03, 3.62348095e-01, 2.50077421e-01,\n",
       "       1.34355720e-01, 6.36059371e-01, 6.51233522e-01, 7.95644830e-01,\n",
       "       4.20102276e-01, 3.45308759e-01, 7.05817882e-01, 4.29858226e-02,\n",
       "       6.30070443e-01, 4.15778301e-01, 4.57293325e-01, 4.29594640e-01,\n",
       "       7.43904474e-01, 2.13116511e-01, 9.59361314e-01, 5.38875564e-01,\n",
       "       7.00741365e-01, 6.21869072e-01, 2.48255913e-02, 3.14221917e-01,\n",
       "       2.11979783e-01, 9.34904568e-01, 8.01446482e-01, 8.73304807e-01,\n",
       "       5.52318925e-01, 2.66695701e-01, 3.53168563e-01, 3.54360573e-01,\n",
       "       4.61188614e-01, 3.37452604e-01, 1.99205478e-01, 9.15710170e-01,\n",
       "       5.15710269e-01, 3.11617156e-01, 8.31889686e-01, 4.31005239e-01,\n",
       "       3.58678702e-01, 1.71171677e-01, 6.73728639e-01, 4.86257038e-01,\n",
       "       2.50004457e-01, 7.38246924e-01, 6.73321210e-01, 9.91199291e-01,\n",
       "       7.59335155e-01, 3.47771950e-02, 1.99079497e-01, 5.71506891e-01,\n",
       "       2.81947956e-01, 9.09760963e-01, 3.40088586e-01, 2.04173771e-01,\n",
       "       9.55373060e-02, 7.40528997e-01, 8.86115639e-02, 9.43814487e-01,\n",
       "       6.56949537e-01, 4.30243949e-01, 4.62292635e-01, 1.99499499e-01,\n",
       "       8.44636604e-01, 7.27541900e-01, 9.62643327e-01, 4.35330859e-02,\n",
       "       7.94508065e-01, 2.29420468e-01, 7.12368087e-01, 6.25311296e-01,\n",
       "       9.56479072e-02, 5.74307148e-01, 3.08547221e-01, 6.89561133e-01,\n",
       "       1.31980467e-01, 5.02457134e-01, 4.87741165e-01, 6.19591239e-01,\n",
       "       3.95828653e-01, 2.36374995e-01, 2.95136963e-01, 6.96107058e-01,\n",
       "       2.38644774e-01, 8.90401511e-01, 7.19254876e-01, 5.97281942e-01,\n",
       "       2.74240945e-01, 2.20714331e-01, 1.92720436e-01, 5.03043589e-01,\n",
       "       1.54206032e-01, 7.26277173e-01, 6.30737003e-01, 5.28119450e-01,\n",
       "       9.26889841e-01, 8.20428002e-01, 7.40713175e-01, 5.38724510e-02,\n",
       "       5.65175455e-01, 6.25217205e-01, 6.99427530e-01, 4.62640091e-01,\n",
       "       6.32816828e-01, 5.63074684e-01, 7.87285821e-01, 7.16787656e-01,\n",
       "       9.83319728e-01, 4.13629561e-01, 8.52266879e-01, 7.28381490e-02,\n",
       "       7.29234483e-01, 9.00483363e-01, 8.92235717e-01, 3.10320846e-01,\n",
       "       3.56990203e-01, 9.92329257e-01, 7.39393078e-01, 4.83416070e-01,\n",
       "       9.52175424e-02, 8.92061635e-01, 7.25828921e-01, 5.85379469e-01,\n",
       "       8.27717402e-01, 9.83063471e-01, 1.83791283e-01, 7.33050283e-01,\n",
       "       7.59107942e-01, 4.49530346e-01, 5.04807547e-01, 8.10394899e-01,\n",
       "       1.18421733e-01, 7.95373872e-01, 9.50365974e-01, 6.41881411e-01,\n",
       "       9.00739248e-01, 6.04965581e-01, 3.90100797e-01, 4.91445642e-02,\n",
       "       7.89681961e-01, 5.05391096e-01, 1.33860224e-01, 1.26223596e-01,\n",
       "       2.52483888e-01, 9.37257475e-01, 4.04619994e-01, 5.31079699e-01,\n",
       "       1.30302459e-01, 9.04239021e-01, 9.66149117e-02, 6.74161539e-01,\n",
       "       5.62550934e-01, 7.71057122e-01, 1.05243141e-01, 7.07795309e-01,\n",
       "       6.78129901e-01, 3.03744343e-01, 5.14161788e-01, 8.75026359e-01,\n",
       "       8.78034563e-01, 4.43410277e-01, 6.34067486e-01, 2.59340366e-01,\n",
       "       2.17973719e-01, 1.50073965e-01, 1.13185935e-02, 7.44481485e-02,\n",
       "       9.39335519e-01, 2.07630944e-01, 9.32171942e-01, 3.32064494e-01,\n",
       "       9.68509108e-01, 6.18300695e-01, 2.17088489e-01, 7.67198664e-01,\n",
       "       4.87249691e-01, 2.63387294e-02, 3.00703355e-01, 1.55443059e-01,\n",
       "       1.10922186e-01, 3.32122615e-01, 9.65335989e-01, 3.45264898e-01,\n",
       "       4.23556240e-01, 1.41766236e-01, 7.06157812e-01, 4.28442209e-01,\n",
       "       9.10899980e-01, 9.03027947e-01, 4.90558178e-01, 8.84087342e-01,\n",
       "       8.53433088e-01, 7.55187376e-01, 1.43632619e-01, 6.50757168e-01,\n",
       "       7.32270936e-01, 7.25380371e-02, 1.84080675e-01, 2.03621399e-01,\n",
       "       9.67953709e-01, 4.29850110e-01, 2.31403413e-01, 5.59245291e-01,\n",
       "       8.07102059e-01, 6.15074495e-01, 9.19046733e-01, 9.50417135e-01,\n",
       "       3.01988584e-01, 1.79839342e-01, 3.56538704e-01, 7.30030947e-01,\n",
       "       2.90728987e-01, 5.39058660e-02, 5.30588992e-01, 4.60095279e-01,\n",
       "       5.78591494e-02, 2.48041106e-01, 8.05717209e-01, 1.29273342e-01,\n",
       "       8.99464997e-01, 1.89772380e-01, 8.86704635e-01, 6.85371740e-01,\n",
       "       7.24356392e-01, 5.63653651e-02, 4.98169936e-01, 7.78964603e-01,\n",
       "       8.20495044e-01, 3.03456102e-01, 6.49307048e-01, 8.94055964e-01,\n",
       "       6.18857659e-01, 9.93339906e-01, 4.80766117e-01, 2.74904859e-01,\n",
       "       5.38316499e-01, 1.01130427e-01, 1.32786112e-03, 1.77628148e-01,\n",
       "       3.37360371e-01, 7.93525633e-01, 1.71694401e-01, 3.24361400e-01,\n",
       "       3.39917970e-01, 9.83327931e-01, 5.96337064e-01, 5.36979917e-01,\n",
       "       7.65384241e-02, 5.77104703e-01, 1.96784631e-01, 8.54334722e-01,\n",
       "       3.92336370e-01, 9.92281197e-01, 9.57852749e-02, 7.21095966e-01,\n",
       "       8.25802639e-01, 8.70797202e-01, 8.40442167e-01, 8.07201443e-01,\n",
       "       3.75015363e-02, 4.70559566e-01, 8.57036502e-01, 1.66224522e-01,\n",
       "       3.22677795e-02, 6.74257853e-01, 8.31039246e-01, 1.49938602e-01,\n",
       "       8.67044516e-01, 3.84620867e-01, 6.98277619e-01, 1.35922400e-01,\n",
       "       8.31128128e-01, 5.39168690e-01, 3.67948166e-01, 7.14780324e-01,\n",
       "       3.86781063e-01, 4.68389483e-02, 9.23639976e-01, 5.73108652e-01,\n",
       "       9.06578042e-02, 7.69435526e-01, 2.72948923e-01, 8.62701791e-01,\n",
       "       8.93489721e-02, 6.06260733e-01, 6.14918749e-01, 9.21548981e-01,\n",
       "       9.79982811e-01, 5.91425248e-01, 9.80547606e-01, 1.17046451e-03,\n",
       "       2.38182048e-01, 6.85361383e-01, 2.38302410e-01, 7.04594547e-02,\n",
       "       4.30615699e-01, 4.60898157e-01, 3.34781776e-01, 6.00796367e-01,\n",
       "       5.36452817e-01, 2.51334988e-01, 6.85127074e-01, 1.12967961e-01,\n",
       "       1.05478546e-01, 5.31136689e-01, 8.31616482e-01, 9.46945939e-02,\n",
       "       8.42273093e-01, 5.16567406e-01, 8.39617998e-01, 1.94862170e-01,\n",
       "       9.54450901e-01, 6.16857993e-01, 1.44055152e-01, 1.49897506e-01,\n",
       "       1.35569004e-01, 2.29148978e-02, 8.35278206e-01, 9.73150793e-01,\n",
       "       5.73308119e-01, 2.42255725e-01, 5.55657003e-01, 1.10614446e-02,\n",
       "       2.19725744e-01, 6.73570763e-01, 5.37777827e-01, 2.31929171e-01,\n",
       "       8.40109125e-01, 3.83217734e-01, 4.97993754e-01, 3.93996407e-01,\n",
       "       7.20413438e-02, 8.79674511e-02, 5.03711285e-01, 9.90544193e-02,\n",
       "       2.99637589e-01, 3.96527805e-01, 9.89214945e-01, 5.57251143e-01,\n",
       "       6.83237459e-01, 2.20134755e-01, 1.42404974e-01, 9.22308520e-01,\n",
       "       9.96577152e-01, 7.23975179e-02, 8.13452492e-02, 7.08428771e-02,\n",
       "       4.09455599e-01, 1.68372576e-01, 8.68548376e-01, 5.61087080e-01,\n",
       "       3.29572453e-01, 5.75889893e-01, 8.58211460e-01, 5.12262950e-01,\n",
       "       5.20328649e-01, 4.12202418e-03, 7.88504168e-01, 2.73694487e-01,\n",
       "       6.16898732e-01, 3.89227884e-01, 2.64686950e-01, 4.24759506e-01,\n",
       "       7.37693226e-01, 2.61463613e-01, 4.70670585e-01, 1.58892086e-01,\n",
       "       7.71506802e-01, 8.38880589e-01, 9.59100669e-01, 8.69896482e-01])"
      ]
     },
     "execution_count": 27,
     "metadata": {},
     "output_type": "execute_result"
    }
   ],
   "source": [
    "a = np.random.rand(1000)\n",
    "a"
   ]
  },
  {
   "cell_type": "code",
   "execution_count": 32,
   "metadata": {},
   "outputs": [
    {
     "data": {
      "text/plain": [
       "(array([107.,  97.,  96.,  99., 103.,  95.,  93., 101., 100.]),\n",
       " array([0.1, 0.2, 0.3, 0.4, 0.5, 0.6, 0.7, 0.8, 0.9, 1. ]),\n",
       " <a list of 9 Patch objects>)"
      ]
     },
     "execution_count": 32,
     "metadata": {},
     "output_type": "execute_result"
    },
    {
     "data": {
      "image/png": "[encoded data removed]",
      "text/plain": [
       "<Figure size 432x288 with 1 Axes>"
      ]
     },
     "metadata": {
      "needs_background": "light"
     },
     "output_type": "display_data"
    }
   ],
   "source": [
    "plt.title = \"histogram\"\n",
    "plt.hist(a,bins=[0.1,0.2,0.3,0.4,0.5,0.6,0.7,0.8,0.9,1])\n",
    "# plt.show() #dipakai jika menggunakan cmd"
   ]
  },
  {
   "cell_type": "code",
   "execution_count": 33,
   "metadata": {},
   "outputs": [],
   "source": [
    "from scipy import stats"
   ]
  },
  {
   "cell_type": "markdown",
   "metadata": {},
   "source": [
    "## Mencari parameter paling cocok \n",
    "### Contoh mencari parameter untuk mean dan standar deviasi"
   ]
  },
  {
   "cell_type": "code",
   "execution_count": 38,
   "metadata": {},
   "outputs": [
    {
     "name": "stdout",
     "output_type": "stream",
     "text": [
      "0.4917213140524214\n",
      "0.29185492653739764\n"
     ]
    }
   ],
   "source": [
    "m,s=stats.norm.fit(a)\n",
    "print(m)\n",
    "print(s)"
   ]
  },
  {
   "cell_type": "code",
   "execution_count": 53,
   "metadata": {},
   "outputs": [
    {
     "data": {
      "text/plain": [
       "[<matplotlib.lines.Line2D at 0xb73e080>]"
      ]
     },
     "execution_count": 53,
     "metadata": {},
     "output_type": "execute_result"
    },
    {
     "data": {
      "image/png": "[encoded data removed]",
      "text/plain": [
       "<Figure size 432x288 with 1 Axes>"
      ]
     },
     "metadata": {
      "needs_background": "light"
     },
     "output_type": "display_data"
    }
   ],
   "source": [
    "lnspc = np.linspace(0,1,100,endpoint=True)\n",
    "pdf_g = stats.norm.pdf(lnspc,m,s)\n",
    "plt.plot(lnspc,pdf_g)"
   ]
  },
  {
   "cell_type": "markdown",
   "metadata": {},
   "source": [
    "## Latihan"
   ]
  },
  {
   "cell_type": "code",
   "execution_count": 47,
   "metadata": {},
   "outputs": [
    {
     "data": {
      "text/html": [
       "<div>\n",
       "<style scoped>\n",
       "    .dataframe tbody tr th:only-of-type {\n",
       "        vertical-align: middle;\n",
       "    }\n",
       "\n",
       "    .dataframe tbody tr th {\n",
       "        vertical-align: top;\n",
       "    }\n",
       "\n",
       "    .dataframe thead th {\n",
       "        text-align: right;\n",
       "    }\n",
       "</style>\n",
       "<table border=\"1\" class=\"dataframe\">\n",
       "  <thead>\n",
       "    <tr style=\"text-align: right;\">\n",
       "      <th></th>\n",
       "      <th>country</th>\n",
       "      <th>description</th>\n",
       "      <th>designation</th>\n",
       "      <th>points</th>\n",
       "      <th>price</th>\n",
       "      <th>province</th>\n",
       "      <th>region_1</th>\n",
       "      <th>region_2</th>\n",
       "      <th>variety</th>\n",
       "      <th>winery</th>\n",
       "    </tr>\n",
       "  </thead>\n",
       "  <tbody>\n",
       "    <tr>\n",
       "      <th>0</th>\n",
       "      <td>US</td>\n",
       "      <td>This tremendous 100% varietal wine hails from ...</td>\n",
       "      <td>Martha's Vineyard</td>\n",
       "      <td>96</td>\n",
       "      <td>235.0</td>\n",
       "      <td>California</td>\n",
       "      <td>Napa Valley</td>\n",
       "      <td>Napa</td>\n",
       "      <td>Cabernet Sauvignon</td>\n",
       "      <td>Heitz</td>\n",
       "    </tr>\n",
       "    <tr>\n",
       "      <th>1</th>\n",
       "      <td>Spain</td>\n",
       "      <td>Ripe aromas of fig, blackberry and cassis are ...</td>\n",
       "      <td>Carodorum Selección Especial Reserva</td>\n",
       "      <td>96</td>\n",
       "      <td>110.0</td>\n",
       "      <td>Northern Spain</td>\n",
       "      <td>Toro</td>\n",
       "      <td>NaN</td>\n",
       "      <td>Tinta de Toro</td>\n",
       "      <td>Bodega Carmen Rodríguez</td>\n",
       "    </tr>\n",
       "    <tr>\n",
       "      <th>2</th>\n",
       "      <td>US</td>\n",
       "      <td>Mac Watson honors the memory of a wine once ma...</td>\n",
       "      <td>Special Selected Late Harvest</td>\n",
       "      <td>96</td>\n",
       "      <td>90.0</td>\n",
       "      <td>California</td>\n",
       "      <td>Knights Valley</td>\n",
       "      <td>Sonoma</td>\n",
       "      <td>Sauvignon Blanc</td>\n",
       "      <td>Macauley</td>\n",
       "    </tr>\n",
       "  </tbody>\n",
       "</table>\n",
       "</div>"
      ],
      "text/plain": [
       "  country                                        description  \\\n",
       "0      US  This tremendous 100% varietal wine hails from ...   \n",
       "1   Spain  Ripe aromas of fig, blackberry and cassis are ...   \n",
       "2      US  Mac Watson honors the memory of a wine once ma...   \n",
       "\n",
       "                            designation  points  price        province  \\\n",
       "0                     Martha's Vineyard      96  235.0      California   \n",
       "1  Carodorum Selección Especial Reserva      96  110.0  Northern Spain   \n",
       "2         Special Selected Late Harvest      96   90.0      California   \n",
       "\n",
       "         region_1 region_2             variety                   winery  \n",
       "0     Napa Valley     Napa  Cabernet Sauvignon                    Heitz  \n",
       "1            Toro      NaN       Tinta de Toro  Bodega Carmen Rodríguez  \n",
       "2  Knights Valley   Sonoma     Sauvignon Blanc                 Macauley  "
      ]
     },
     "execution_count": 47,
     "metadata": {},
     "output_type": "execute_result"
    }
   ],
   "source": [
    "import numpy as np\n",
    "import matplotlib.pyplot as plt\n",
    "\n",
    "import pandas as pd\n",
    "reviews = pd.read_csv(\"winemag-data_first150k.csv\", index_col=0)\n",
    "reviews.head(3)"
   ]
  },
  {
   "cell_type": "code",
   "execution_count": 48,
   "metadata": {},
   "outputs": [
    {
     "name": "stdout",
     "output_type": "stream",
     "text": [
      "Mean:  33.13148249353299 \n",
      "Median:  24.0 \n",
      "Mode:  20.0\n"
     ]
    }
   ],
   "source": [
    "price = reviews['price']\n",
    "\n",
    "mean=price.mean()\n",
    "median=price.median()\n",
    "mode=price.mode()\n",
    "\n",
    "print('Mean: ',mean,'\\nMedian: ',median,'\\nMode: ',mode[0])"
   ]
  },
  {
   "cell_type": "code",
   "execution_count": 49,
   "metadata": {},
   "outputs": [
    {
     "data": {
      "text/html": [
       "<div>\n",
       "<style scoped>\n",
       "    .dataframe tbody tr th:only-of-type {\n",
       "        vertical-align: middle;\n",
       "    }\n",
       "\n",
       "    .dataframe tbody tr th {\n",
       "        vertical-align: top;\n",
       "    }\n",
       "\n",
       "    .dataframe thead th {\n",
       "        text-align: right;\n",
       "    }\n",
       "</style>\n",
       "<table border=\"1\" class=\"dataframe\">\n",
       "  <thead>\n",
       "    <tr style=\"text-align: right;\">\n",
       "      <th></th>\n",
       "      <th>points</th>\n",
       "      <th>price</th>\n",
       "    </tr>\n",
       "  </thead>\n",
       "  <tbody>\n",
       "    <tr>\n",
       "      <th>count</th>\n",
       "      <td>150930.000000</td>\n",
       "      <td>137235.000000</td>\n",
       "    </tr>\n",
       "    <tr>\n",
       "      <th>mean</th>\n",
       "      <td>87.888418</td>\n",
       "      <td>33.131482</td>\n",
       "    </tr>\n",
       "    <tr>\n",
       "      <th>std</th>\n",
       "      <td>3.222392</td>\n",
       "      <td>36.322536</td>\n",
       "    </tr>\n",
       "    <tr>\n",
       "      <th>min</th>\n",
       "      <td>80.000000</td>\n",
       "      <td>4.000000</td>\n",
       "    </tr>\n",
       "    <tr>\n",
       "      <th>25%</th>\n",
       "      <td>86.000000</td>\n",
       "      <td>16.000000</td>\n",
       "    </tr>\n",
       "    <tr>\n",
       "      <th>50%</th>\n",
       "      <td>88.000000</td>\n",
       "      <td>24.000000</td>\n",
       "    </tr>\n",
       "    <tr>\n",
       "      <th>75%</th>\n",
       "      <td>90.000000</td>\n",
       "      <td>40.000000</td>\n",
       "    </tr>\n",
       "    <tr>\n",
       "      <th>max</th>\n",
       "      <td>100.000000</td>\n",
       "      <td>2300.000000</td>\n",
       "    </tr>\n",
       "  </tbody>\n",
       "</table>\n",
       "</div>"
      ],
      "text/plain": [
       "              points          price\n",
       "count  150930.000000  137235.000000\n",
       "mean       87.888418      33.131482\n",
       "std         3.222392      36.322536\n",
       "min        80.000000       4.000000\n",
       "25%        86.000000      16.000000\n",
       "50%        88.000000      24.000000\n",
       "75%        90.000000      40.000000\n",
       "max       100.000000    2300.000000"
      ]
     },
     "execution_count": 49,
     "metadata": {},
     "output_type": "execute_result"
    }
   ],
   "source": [
    "reviews.describe()"
   ]
  },
  {
   "cell_type": "code",
   "execution_count": 50,
   "metadata": {},
   "outputs": [
    {
     "data": {
      "text/plain": [
       "<matplotlib.axes._subplots.AxesSubplot at 0x12362ef0>"
      ]
     },
     "execution_count": 50,
     "metadata": {},
     "output_type": "execute_result"
    },
    {
     "data": {
      "image/png": "[encoded data removed]",
      "text/plain": [
       "<Figure size 432x288 with 1 Axes>"
      ]
     },
     "metadata": {
      "needs_background": "light"
     },
     "output_type": "display_data"
    }
   ],
   "source": [
    "reviews[reviews['price'] < 100]['price'].plot.hist()"
   ]
  },
  {
   "cell_type": "code",
   "execution_count": null,
   "metadata": {
    "collapsed": true
   },
   "outputs": [],
   "source": []
  }
 ],
 "metadata": {
  "anaconda-cloud": {},
  "kernelspec": {
   "display_name": "Python 3",
   "language": "python",
   "name": "python3"
  },
  "language_info": {
   "codemirror_mode": {
    "name": "ipython",
    "version": 3
   },
   "file_extension": ".py",
   "mimetype": "text/x-python",
   "name": "python",
   "nbconvert_exporter": "python",
   "pygments_lexer": "ipython3",
   "version": "3.7.0"
  }
 },
 "nbformat": 4,
 "nbformat_minor": 2
}
