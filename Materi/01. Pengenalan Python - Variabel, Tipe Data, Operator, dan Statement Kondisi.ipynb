{
 "cells": [
  {
   "cell_type": "markdown",
   "metadata": {},
   "source": [
    "# DIGITAL TALENT \n",
    "\n",
    "Setelah mengikuti materi pertama ini peserta diharapkan dapat:\n",
    "1. Menjalankan sintaks dasar python\n",
    "2. Mengenal variabel serta mampu menggunakan variabel\n",
    "3. Mengetahui jenis-jenis tipe data dalam python\n",
    "4. Mengetahui jenis-jenis operator\n",
    "5. Dapat menggunakan operator aritmetika, assignment, perbandingan, serta logika \n",
    "6. Memahami algoritma dari statement kondisi\n",
    "7. Dapat menggunakan statement kondisi dalam kasus pemrograman"
   ]
  },
  {
   "cell_type": "markdown",
   "metadata": {},
   "source": [
    "## Hello World !"
   ]
  },
  {
   "cell_type": "code",
   "execution_count": 3,
   "metadata": {},
   "outputs": [
    {
     "name": "stdout",
     "output_type": "stream",
     "text": [
      "Hello World\n"
     ]
    }
   ],
   "source": [
    "print(\"Hello World\")"
   ]
  },
  {
   "cell_type": "markdown",
   "metadata": {},
   "source": [
    "## Variabel \n",
    "Variabel adalah tempat menyimpan nilai sementara. Berikut adalah cara mendeklarasikan, menginisialisasi variabel dan memanggil variabel dalam python:\n"
   ]
  },
  {
   "cell_type": "code",
   "execution_count": null,
   "metadata": {},
   "outputs": [],
   "source": [
    "nama = \"Guntur Budi Herwanto\"\n",
    "\n",
    "print(nama)"
   ]
  },
  {
   "cell_type": "markdown",
   "metadata": {},
   "source": [
    "Nilai dalam variabel dapat diubah sewaktu waktu"
   ]
  },
  {
   "cell_type": "code",
   "execution_count": null,
   "metadata": {},
   "outputs": [],
   "source": [
    "nama = \"Guntur Budi Herwanto\"\n",
    "nama = \"Adiyo Hidayat\"\n",
    "\n",
    "print(nama)\n"
   ]
  },
  {
   "cell_type": "markdown",
   "metadata": {},
   "source": [
    "Kita juga bisa memberikan beberapa nilai pada variabel secara langsung"
   ]
  },
  {
   "cell_type": "code",
   "execution_count": null,
   "metadata": {},
   "outputs": [],
   "source": [
    "a, b, c = 5, 3.2, \"Hello\"\n",
    "\n",
    "print (a)\n",
    "print (b)\n",
    "print (c)"
   ]
  },
  {
   "cell_type": "code",
   "execution_count": null,
   "metadata": {},
   "outputs": [],
   "source": [
    "x = y = z = \"podo\"\n",
    "\n",
    "print (x)\n",
    "print (y)\n",
    "print (z)"
   ]
  },
  {
   "cell_type": "markdown",
   "metadata": {},
   "source": [
    "## TIPE DATA\n",
    "Dalam setiap nilai di variabel, terdapat sebuah tipe data tertentu. Pada python, terdapat beberapa tipe data:\n",
    "\n",
    "- Numbers\n",
    "- Strings\n",
    "- Boolean\n",
    "- List\n",
    "- Tuple\n",
    "- Set\n",
    "- Dictionary"
   ]
  },
  {
   "cell_type": "markdown",
   "metadata": {},
   "source": [
    "### Numbers\n",
    "- Integer : Angka tanpa koma\n",
    "- Float : Angka dengan Koma"
   ]
  },
  {
   "cell_type": "code",
   "execution_count": null,
   "metadata": {},
   "outputs": [],
   "source": [
    "a = 5\n",
    "print(a, \"mempunyai tipe\", type(a))\n",
    "\n",
    "a = 2.0\n",
    "print(a, \"mempunyai tipe\", type(a))"
   ]
  },
  {
   "cell_type": "markdown",
   "metadata": {},
   "source": [
    "### Boolean\n",
    "Benar atau Salah?"
   ]
  },
  {
   "cell_type": "code",
   "execution_count": null,
   "metadata": {},
   "outputs": [],
   "source": [
    "a = 5>6\n",
    "print(a, \"mempunyai tipe\", type(a))\n",
    "\n",
    "a = 6>5\n",
    "print(a, \"mempunyai tipe\", type(a))"
   ]
  },
  {
   "cell_type": "markdown",
   "metadata": {},
   "source": [
    "### String\n",
    "Kumpulan karakter"
   ]
  },
  {
   "cell_type": "code",
   "execution_count": null,
   "metadata": {},
   "outputs": [],
   "source": [
    "a = \"Ini adalah sebuah string\"\n",
    "print(a, \"mempunyai tipe\", type(a))"
   ]
  },
  {
   "cell_type": "markdown",
   "metadata": {},
   "source": [
    "### List & Tuple & Dictionary\n",
    "dibahas minggu depan"
   ]
  },
  {
   "cell_type": "markdown",
   "metadata": {},
   "source": [
    "## Operator"
   ]
  },
  {
   "cell_type": "markdown",
   "metadata": {},
   "source": [
    "### 1. Operator Aritmetika\n",
    "\n",
    "| Operator | Arti                                                                                          | Contoh                  |\n",
    "|----------|--------------------------------------------------------------------------------------------------|--------------------------|\n",
    "| +        | Penambahan                                                                   | x + y                 |\n",
    "| -        | Pengurangan                                              | x - y                  |\n",
    "| *        | Perkalian                                                                            | x * y                    |\n",
    "| /        | Pembagian                                 | x / y                    |\n",
    "| %        | Modulo - Sisa Pembagian                                 | x % y (sisa pembagian of x/y) |\n",
    "| //       | Pembagian dan dibulatkan ke bawah | x // y                   |\n",
    "| **       | Eksponen - Pangkat                                             | x**y (x pangkat y)  |"
   ]
  },
  {
   "cell_type": "code",
   "execution_count": null,
   "metadata": {},
   "outputs": [],
   "source": [
    "x = 15\n",
    "y = 4\n",
    "\n",
    "# Output: x + y = 19\n",
    "print('x + y =',x+y)\n",
    "\n",
    "# Output: x - y = 11\n",
    "print('x - y =',x-y)\n",
    "\n",
    "# Output: x * y = 60\n",
    "print('x * y =',x*y)\n",
    "\n",
    "# Output: x / y = 3.75\n",
    "print('x / y =',x/y)\n",
    "\n",
    "# Output: x // y = 3\n",
    "print('x // y =',x//y)\n",
    "\n",
    "# Output: x ** y = 50625\n",
    "print('x ** y =',x**y)"
   ]
  },
  {
   "cell_type": "markdown",
   "metadata": {},
   "source": [
    "### 2. Operator Assignment\n",
    "Pemberian Nilai, Updating Nilai"
   ]
  },
  {
   "cell_type": "code",
   "execution_count": null,
   "metadata": {},
   "outputs": [],
   "source": [
    "a = 5\n",
    "b = 2\n",
    "a = a + 6\n",
    "print(a)\n",
    "a = a * 5\n",
    "print(a)\n",
    "a = b + 3\n",
    "print(a)"
   ]
  },
  {
   "cell_type": "markdown",
   "metadata": {},
   "source": [
    "![alt text](https://www.freeiconspng.com/uploads/book-store-icon-31.png \"Bookstore\")\n",
    "\n",
    "## LATIHAN\n",
    "\n",
    "\n",
    "#### Pada keluaran buku terbaru, Harry Potter harga buku adalah Rp 100.000, tetapi toko buku mendapatkan diskon 40%. Pengiriman biaya Rp 9.000 untuk salinan pertama dan Rp 3.000 untuk setiap salinan tambahan. Berapa total biaya keseluruhan untuk pengiriman buku 60 eksemplar?\n",
    "\n"
   ]
  },
  {
   "cell_type": "code",
   "execution_count": 6,
   "metadata": {},
   "outputs": [
    {
     "name": "stdout",
     "output_type": "stream",
     "text": [
      "21780000000.0\n"
     ]
    }
   ],
   "source": [
    "buku=100000\n",
    "diskon=buku*(40/100)\n",
    "\n",
    "harga=buku-diskon\n",
    "\n",
    "p1=9000\n",
    "p2=6000\n",
    "\n",
    "total=(harga*(p1))+(59*(harga*(p2)))\n",
    "\n",
    "print(total)"
   ]
  },
  {
   "cell_type": "markdown",
   "metadata": {},
   "source": [
    "### 3. Operator Perbandingan\n",
    "| Operator | Meaning                 | Example |\n",
    "|----------|-------------------------|---------|\n",
    "| >        | Lebih Dari              | x > y   |\n",
    "| <        | Kurang Dari             | x < y   |\n",
    "| ==       | Sama Dengan             | x == y  |\n",
    "| !=       | Tidak Sam Dengan        | x != y  |\n",
    "| >=       | Lebih dari sama dengan  | x >= y  |\n",
    "| <=       | Kurang dari sama dengan | x <= y  |"
   ]
  },
  {
   "cell_type": "code",
   "execution_count": 2,
   "metadata": {},
   "outputs": [
    {
     "name": "stdout",
     "output_type": "stream",
     "text": [
      "x > y  is False\n",
      "x < y  is True\n",
      "x == y is False\n",
      "x != y is True\n",
      "x >= y is False\n",
      "x <= y is True\n"
     ]
    }
   ],
   "source": [
    "x = 10\n",
    "y = 12\n",
    "\n",
    "print('x > y  is',x>y)\n",
    "\n",
    "print('x < y  is',x<y)\n",
    "\n",
    "print('x == y is',x==y)\n",
    "\n",
    "print('x != y is',x!=y)\n",
    "\n",
    "print('x >= y is',x>=y)\n",
    "\n",
    "print('x <= y is',x<=y)"
   ]
  },
  {
   "cell_type": "markdown",
   "metadata": {},
   "source": [
    "### 4. Operator Logika\n",
    "\n",
    "| Operator | Keterangan                         | Contoh  |\n",
    "|----------|------------------------------------|---------|\n",
    "| and      | True jika keduanya True            | x and y |\n",
    "| or       | True jika salah satunya True       | x or y  |\n",
    "| not      | not False = True; not True = False | not x   |"
   ]
  },
  {
   "cell_type": "code",
   "execution_count": null,
   "metadata": {},
   "outputs": [],
   "source": [
    "x = 5 == 5\n",
    "y = 1 > 2\n",
    "\n",
    "\n",
    "print('x and y is',x and y)\n",
    "\n",
    "print('x or y is',x or y)\n",
    "\n",
    "print('not x is',not x)"
   ]
  },
  {
   "cell_type": "markdown",
   "metadata": {},
   "source": [
    "# Statement Kondisi / Percabangan\n",
    "Dalam pembuatan program, seringkali kita memiliki kondisi, jika..maka, contohnya: jika nilai hasil ujian > 90, maka calon peserta digital talent berhak mengikuti program beasiswa. Kondisi seperti ini dapat digambarkan dengan Flowchart seperti dibawah ini:"
   ]
  },
  {
   "cell_type": "markdown",
   "metadata": {},
   "source": [
    "![alt text](https://cdn.programiz.com/sites/tutorial2program/files/Python_if_statement.jpg \"If Statement\")\n"
   ]
  },
  {
   "cell_type": "markdown",
   "metadata": {},
   "source": [
    "Berikut adalah sintaks dari kode program kondisional / percabangan.\n",
    "Perhatikan Indentasi yang ada pada sintaks tersebut."
   ]
  },
  {
   "cell_type": "code",
   "execution_count": null,
   "metadata": {},
   "outputs": [],
   "source": [
    "nilai = 95 # Coba dirubah menjadi 80\n",
    "if nilai>90:\n",
    "    print(\"Lulus\")\n",
    "    print(\"Selamat\")\n",
    "    \n",
    "print(\"Program Selesai\")"
   ]
  },
  {
   "cell_type": "markdown",
   "metadata": {},
   "source": [
    "Dalam bahasa pemrograman Python, Indentasi sangatlah penting untuk menentukan blok kode sebuah program.\n",
    "\n",
    "Selanjutnya, terdapat bentuk yang sedikit lebih kompleks, yaitu dengan menggunakan else:"
   ]
  },
  {
   "cell_type": "markdown",
   "metadata": {},
   "source": [
    "![alt text](https://cdn.programiz.com/sites/tutorial2program/files/Python_if_else_statement.jpg \"If Else Statement\")"
   ]
  },
  {
   "cell_type": "code",
   "execution_count": null,
   "metadata": {},
   "outputs": [],
   "source": [
    "nilai = 80 \n",
    "if nilai>90:\n",
    "    print(\"Lulus\")\n",
    "    print(\"Selamat\")\n",
    "else:\n",
    "    print(\"Maaf Anda Belum Berhasil\")\n",
    "    \n",
    "print(\"Program Selesai\")"
   ]
  },
  {
   "cell_type": "markdown",
   "metadata": {},
   "source": [
    "Jika terdapat lebih dari satu kondisi dapat menggunakan elif (else if):"
   ]
  },
  {
   "cell_type": "markdown",
   "metadata": {},
   "source": [
    "![alt text](https://cdn.programiz.com/sites/tutorial2program/files/Python_if_elif_else_statement.jpg \"If Else If Statement\")\n"
   ]
  },
  {
   "cell_type": "code",
   "execution_count": null,
   "metadata": {},
   "outputs": [],
   "source": [
    "nilai = 85 \n",
    "if nilai>90:\n",
    "    print(\"Lulus\")\n",
    "    print(\"Selamat\")\n",
    "elif nilai>80:\n",
    "    print(\"Anda masuk ke waiting list\")\n",
    "else:\n",
    "    print(\"Maaf Anda Belum Berhasil\")\n",
    "    \n",
    "print(\"Program Selesai\")"
   ]
  },
  {
   "cell_type": "markdown",
   "metadata": {},
   "source": [
    "Percabangan juga bisa disarangkan pada percabangan, contoh:"
   ]
  },
  {
   "cell_type": "code",
   "execution_count": null,
   "metadata": {},
   "outputs": [],
   "source": [
    "nilai = 95\n",
    "umur = 10\n",
    "\n",
    "if nilai>90:\n",
    "    if umur > 17:\n",
    "        print(\"Selamat Anda Berhak Mengikuti Program Beasiswa\")\n",
    "    else:\n",
    "        print(\"Maaf, Anda belum berhak mengikuti program beasiswa\")\n",
    "else:\n",
    "    print(\"Maaf Anda Belum Berhasil\")\n",
    "    \n",
    "print(\"Program Selesai\")"
   ]
  },
  {
   "cell_type": "markdown",
   "metadata": {},
   "source": [
    "![alt text](https://cdn.iconscout.com/icon/free/png-256/human-body-458026.png \"Body\")"
   ]
  },
  {
   "cell_type": "markdown",
   "metadata": {},
   "source": [
    "## LATIHAN\n",
    "\n",
    "\n",
    "Body Mass Index (BMI) menentukan sebuah keidealan berat badan terhadap tinggi badan. Berikut adalah formula dari BMI : BMI = weight (kg) ÷ height^2 (m^2)\n",
    "\n",
    "Berikut adalah kategorisasi BMI\n",
    "\n",
    "| BMI                 | Kategori BMI             |   |\n",
    "|---------------------|---------------------------|---|\n",
    "| Kurang dari 15        | Very severely underweight |   |\n",
    "| Diantara 15 dan 16   | Severely underweight      |   |\n",
    "| Diantara 16 dan 18.5 | Underweight               |   |\n",
    "| Diantara 18.5 dan 25 | Normal (healthy weight)   |   |\n",
    "| Diantara 25 dan 30   | Overweight                |   |\n",
    "| Diantara 30 dan 35   | Moderately obese          |   |\n",
    "| Diantara 35 dan 40   | Severely obese            |   |\n",
    "| Over 40             | Very severely obese       |   |\n",
    "\n",
    "Buatlah sebuah program yang memiliki dua variabel berat badan dengan satuan KG, dan tinggi badan dengan satuan CM, kemudian keluaran dari program adalah Kategori BMI"
   ]
  }
 ],
 "metadata": {
  "kernelspec": {
   "display_name": "Python 3",
   "language": "python",
   "name": "python3"
  },
  "language_info": {
   "codemirror_mode": {
    "name": "ipython",
    "version": 3
   },
   "file_extension": ".py",
   "mimetype": "text/x-python",
   "name": "python",
   "nbconvert_exporter": "python",
   "pygments_lexer": "ipython3",
   "version": "3.7.0"
  }
 },
 "nbformat": 4,
 "nbformat_minor": 2
}
